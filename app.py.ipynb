{
 "cells": [
  {
   "cell_type": "code",
   "execution_count": 1,
   "id": "88b1a5a8-7f81-4486-92f3-4942181b58cf",
   "metadata": {},
   "outputs": [],
   "source": [
    "# ---------- Importing Libraries ----------\n",
    "import pandas as pd\n",
    "import polars as pl\n",
    "import numpy as np\n",
    "import matplotlib.pyplot as plt\n",
    "from pathlib import Path\n",
    "import warnings\n",
    "\n",
    "# Ignore warnings\n",
    "warnings.filterwarnings(\"ignore\")\n",
    "\n",
    "# Display options\n",
    "pd.set_option(\"display.max_columns\", 50)\n"
   ]
  },
  {
   "cell_type": "markdown",
   "id": "bc4847b0",
   "metadata": {},
   "source": [
    "\n",
    "## Loading & Merging Datasets"
   ]
  },
  {
   "cell_type": "code",
   "execution_count": 2,
   "id": "d82b27d3",
   "metadata": {},
   "outputs": [
    {
     "name": "stdout",
     "output_type": "stream",
     "text": [
      "Item_properties_raw shape: (20275902, 4)\n"
     ]
    }
   ],
   "source": [
    "\n",
    "# ---------- Paths ----------\n",
    "data = Path(r\"C:/Users/Aisha Kanyiti/Desktop/TMP 2nd Project\")\n",
    "\n",
    "# ---------- Helper: Check if file has header ----------\n",
    "def file_has_header(path: Path, probe_prefix=\"timestamp\"):\n",
    "    with open(path, \"r\", encoding=\"utf-8\") as f:\n",
    "        first = f.readline().strip().strip(\"#\").strip('\"').lower()\n",
    "    return first.startswith(probe_prefix)\n",
    "\n",
    "# ---------- Load Category Tree (Raw) ----------\n",
    "cat_tree_raw = pd.read_csv(data / \"category_tree(in).csv\", header=None, dtype=str, encoding=\"utf-8\")\n",
    "\n",
    "\n",
    "# ---------- Load Events (Raw) ----------\n",
    "events_path = data / \"events(in).csv\"\n",
    "events_has_header = file_has_header(events_path, probe_prefix=\"timestamp\")\n",
    "events_raw = pd.read_csv(\n",
    "    events_path,\n",
    "    header=0 if events_has_header else None,\n",
    "    names=None if events_has_header else [\"timestamp\", \"visitorid\", \"event\", \"itemid\", \"transactionid\"],\n",
    "    encoding=\"utf-8\"\n",
    ")\n",
    "\n",
    "# ---------- Load Item Properties Parts (Raw) ----------\n",
    "def load_item_props_raw(path: Path):\n",
    "    has_header = file_has_header(path, probe_prefix=\"timestamp\")\n",
    "    return pl.read_csv(\n",
    "        path,\n",
    "        has_header=has_header,\n",
    "        new_columns=None if has_header else [\"timestamp\", \"itemid\", \"property\", \"value\"]\n",
    "    )\n",
    "\n",
    "ip1_raw = load_item_props_raw(data / \"item_properties_part1.1.csv\")\n",
    "ip2_raw = load_item_props_raw(data / \"item_properties_part2.csv\")\n",
    "\n",
    "# Combine\n",
    "item_properties_raw = pl.concat([ip1_raw, ip2_raw])\n",
    "\n",
    "print(\"Item_properties_raw shape:\", item_properties_raw.shape)\n"
   ]
  },
  {
   "cell_type": "code",
   "execution_count": 3,
   "id": "0ce375b9",
   "metadata": {},
   "outputs": [
    {
     "name": "stdout",
     "output_type": "stream",
     "text": [
      "['.ipynb_checkpoints', '.venv', 'About Recommendation System Dataset.pdf', 'category_tree(in).csv', 'events(in).csv', 'item_properties_part1.1.csv', 'item_properties_part2.csv', 'project.py', 'Rec.ipynb', 'sys.ipynb']\n"
     ]
    }
   ],
   "source": [
    "import os\n",
    "print(os.listdir(data))\n"
   ]
  },
  {
   "cell_type": "markdown",
   "id": "818b71fa",
   "metadata": {},
   "source": [
    "Data Cleaning"
   ]
  },
  {
   "cell_type": "code",
   "execution_count": 4,
   "id": "080760e8",
   "metadata": {},
   "outputs": [
    {
     "name": "stdout",
     "output_type": "stream",
     "text": [
      "Category tree: (1644, 2)\n",
      "Events: (1048575, 5) | dtypes:\n",
      "timestamp           int64\n",
      "visitorid           int64\n",
      "event            category\n",
      "itemid              int64\n",
      "transactionid     float64\n",
      "dtype: object\n",
      "Item properties (Polars): (17984049, 4)\n",
      "shape: (3, 4)\n",
      "┌───────────────┬────────┬──────────┬──────────────────────────────┐\n",
      "│ timestamp     ┆ itemid ┆ property ┆ value                        │\n",
      "│ ---           ┆ ---    ┆ ---      ┆ ---                          │\n",
      "│ i64           ┆ i64    ┆ str      ┆ str                          │\n",
      "╞═══════════════╪════════╪══════════╪══════════════════════════════╡\n",
      "│ 1433646000000 ┆ 0      ┆ 1036     ┆ 1276750                      │\n",
      "│ 1433041200000 ┆ 0      ┆ 1056     ┆ n3.168 1144008               │\n",
      "│ 1433646000000 ┆ 0      ┆ 11       ┆ n15360.000 628176 n12288.000 │\n",
      "└───────────────┴────────┴──────────┴──────────────────────────────┘\n"
     ]
    }
   ],
   "source": [
    "\n",
    "# ---------- Clean Category Tree ----------\n",
    "def clean_category_tree(df: pd.DataFrame) -> pd.DataFrame:\n",
    "    def is_int_like(s):\n",
    "        s = str(s).strip()\n",
    "        return s.lstrip(\"-\").isdigit()\n",
    "    if df.shape[1] >= 2 and (not is_int_like(df.iloc[0, 0]) or not is_int_like(df.iloc[0, 1])):\n",
    "        df = df.iloc[1:].copy()\n",
    "    df = df.iloc[:, :2]\n",
    "    df.columns = [\"child\", \"parent\"]\n",
    "    df[\"child\"] = pd.to_numeric(df[\"child\"], errors=\"coerce\").astype(\"Int64\")\n",
    "    df[\"parent\"] = pd.to_numeric(df[\"parent\"], errors=\"coerce\").astype(\"Int64\")\n",
    "    return df.dropna(subset=[\"child\", \"parent\"]).reset_index(drop=True)\n",
    "\n",
    "cat_tree = clean_category_tree(cat_tree_raw)\n",
    "\n",
    "# ---------- Clean Events ----------\n",
    "def clean_events(df: pd.DataFrame) -> pd.DataFrame:\n",
    "    for col in [\"timestamp\", \"visitorid\", \"event\", \"itemid\", \"transactionid\"]:\n",
    "        if col in df.columns and df[col].dtype == \"object\":\n",
    "            df[col] = df[col].astype(str).str.strip()\n",
    "    df[\"timestamp\"] = pd.to_numeric(df[\"timestamp\"], errors=\"coerce\")\n",
    "    df[\"visitorid\"] = pd.to_numeric(df[\"visitorid\"], errors=\"coerce\")\n",
    "    df[\"itemid\"] = pd.to_numeric(df[\"itemid\"], errors=\"coerce\")\n",
    "    if \"transactionid\" in df.columns:\n",
    "        df[\"transactionid\"] = pd.to_numeric(df[\"transactionid\"], errors=\"coerce\")\n",
    "    df[\"event\"] = df[\"event\"].astype(\"category\")\n",
    "    df = df.dropna(subset=[\"timestamp\", \"visitorid\", \"event\", \"itemid\"]).reset_index(drop=True)\n",
    "    df[\"timestamp\"] = df[\"timestamp\"].astype(\"int64\")\n",
    "    df[\"visitorid\"] = df[\"visitorid\"].astype(\"int64\")\n",
    "    df[\"itemid\"] = df[\"itemid\"].astype(\"int64\")\n",
    "    return df\n",
    "\n",
    "events = clean_events(events_raw)\n",
    "\n",
    "# ---------- Clean Item Properties ----------\n",
    "# Remove 'available' and 'categoryid' rows (Polars syntax)\n",
    "item_properties_filtered = item_properties_raw.filter(\n",
    "    ~pl.col(\"property\").is_in([\"available\", \"categoryid\"])\n",
    ")\n",
    "\n",
    "# Clean Item Properties\n",
    "def clean_item_properties(df: pl.DataFrame) -> pl.DataFrame:\n",
    "    if df[\"timestamp\"].dtype != pl.Int64:\n",
    "        df = df.with_columns(pl.col(\"timestamp\").cast(pl.Int64, strict=False))\n",
    "    if df[\"itemid\"].dtype != pl.Int64:\n",
    "        df = df.with_columns(pl.col(\"itemid\").cast(pl.Int64, strict=False))\n",
    "    df = df.with_columns([\n",
    "        pl.col(\"property\").cast(pl.Utf8),\n",
    "        pl.col(\"value\").cast(pl.Utf8)\n",
    "    ])\n",
    "    return df.sort([\"itemid\", \"property\", \"timestamp\"])\n",
    "\n",
    "item_properties = clean_item_properties(item_properties_filtered)\n",
    "\n",
    "\n",
    "# ---------- Sanity Checks ----------\n",
    "print(f\"Category tree: {cat_tree.shape}\")\n",
    "print(f\"Events: {events.shape} | dtypes:\\n{events.dtypes}\")\n",
    "print(f\"Item properties (Polars): {item_properties.shape}\")\n",
    "print(item_properties.head(3))\n"
   ]
  },
  {
   "cell_type": "code",
   "execution_count": 5,
   "id": "11dde773",
   "metadata": {},
   "outputs": [
    {
     "name": "stdout",
     "output_type": "stream",
     "text": [
      "shape: (5, 5)\n",
      "┌───────────────┬───────────┬───────┬────────┬───────────────┐\n",
      "│ timestamp     ┆ visitorid ┆ event ┆ itemid ┆ transactionid │\n",
      "│ ---           ┆ ---       ┆ ---   ┆ ---    ┆ ---           │\n",
      "│ i64           ┆ i64       ┆ str   ┆ i64    ┆ str           │\n",
      "╞═══════════════╪═══════════╪═══════╪════════╪═══════════════╡\n",
      "│ 1433220000000 ┆ 257597    ┆ view  ┆ 355908 ┆ null          │\n",
      "│ 1433220000000 ┆ 992329    ┆ view  ┆ 248676 ┆ null          │\n",
      "│ 1433220000000 ┆ 111016    ┆ view  ┆ 318965 ┆ null          │\n",
      "│ 1433220000000 ┆ 483717    ┆ view  ┆ 253185 ┆ null          │\n",
      "│ 1433220000000 ┆ 951259    ┆ view  ┆ 367447 ┆ null          │\n",
      "└───────────────┴───────────┴───────┴────────┴───────────────┘ \n",
      "\n",
      "shape: (5, 4)\n",
      "┌───────────────┬────────┬────────────┬─────────────────────────────────┐\n",
      "│ timestamp     ┆ itemid ┆ property   ┆ value                           │\n",
      "│ ---           ┆ ---    ┆ ---        ┆ ---                             │\n",
      "│ i64           ┆ i64    ┆ str        ┆ str                             │\n",
      "╞═══════════════╪════════╪════════════╪═════════════════════════════════╡\n",
      "│ 1435460400000 ┆ 460429 ┆ categoryid ┆ 1338                            │\n",
      "│ 1441508400000 ┆ 206783 ┆ 888        ┆ 1116713 960601 n277.200         │\n",
      "│ 1439089200000 ┆ 395014 ┆ 400        ┆ n552.000 639502 n720.000 42456… │\n",
      "│ 1431226800000 ┆ 59481  ┆ 790        ┆ n15360.000                      │\n",
      "│ 1431831600000 ┆ 156781 ┆ 917        ┆ 828513                          │\n",
      "└───────────────┴────────┴────────────┴─────────────────────────────────┘ \n",
      "\n",
      "shape: (5, 2)\n",
      "┌────────────┬──────────┐\n",
      "│ categoryid ┆ parentid │\n",
      "│ ---        ┆ ---      │\n",
      "│ i64        ┆ i64      │\n",
      "╞════════════╪══════════╡\n",
      "│ 1016       ┆ 213      │\n",
      "│ 809        ┆ 169      │\n",
      "│ 570        ┆ 9        │\n",
      "│ 1691       ┆ 885      │\n",
      "│ 536        ┆ 1691     │\n",
      "└────────────┴──────────┘\n"
     ]
    }
   ],
   "source": [
    "import polars as pl\n",
    "\n",
    "# 1) Load events and category tree\n",
    "events = pl.read_csv(\"events(in).csv\")\n",
    "cat_tree = pl.read_csv(\"category_tree(in).csv\")\n",
    "\n",
    "# 2) Load both item_properties files and combine\n",
    "ip1 = pl.read_csv(\"item_properties_part1.1.csv\")\n",
    "ip2 = pl.read_csv(\"item_properties_part2.csv\")\n",
    "\n",
    "# Merge them vertically\n",
    "item_properties_raw = pl.concat([ip1, ip2])\n",
    "\n",
    "# 3) Ensure timestamps are numeric\n",
    "events = events.with_columns(\n",
    "    pl.col(\"timestamp\").cast(pl.Int64, strict=False)\n",
    ")\n",
    "ip = item_properties_raw.with_columns(\n",
    "    pl.col(\"timestamp\").cast(pl.Int64, strict=False)\n",
    ")\n",
    "\n",
    "# 4) Preview datasets\n",
    "print(events.head(), \"\\n\")\n",
    "print(ip.head(), \"\\n\")\n",
    "print(cat_tree.head())\n"
   ]
  },
  {
   "cell_type": "code",
   "execution_count": null,
   "id": "58524ea6",
   "metadata": {},
   "outputs": [
    {
     "ename": "",
     "evalue": "",
     "output_type": "error",
     "traceback": [
      "\u001b[1;31mThe Kernel crashed while executing code in the current cell or a previous cell. \n",
      "\u001b[1;31mPlease review the code in the cell(s) to identify a possible cause of the failure. \n",
      "\u001b[1;31mClick <a href='https://aka.ms/vscodeJupyterKernelCrash'>here</a> for more info. \n",
      "\u001b[1;31mView Jupyter <a href='command:jupyter.viewOutput'>log</a> for further details."
     ]
    },
    {
     "ename": "",
     "evalue": "",
     "output_type": "error",
     "traceback": [
      "\u001b[1;31mCanceled future for execute_request message before replies were done"
     ]
    },
    {
     "ename": "",
     "evalue": "",
     "output_type": "error",
     "traceback": [
      "\u001b[1;31mCanceled future for execute_request message before replies were done. \n",
      "\u001b[1;31mView Jupyter <a href='command:jupyter.viewOutput'>log</a> for further details."
     ]
    }
   ],
   "source": [
    "# --- Convert timestamp to datetime ---\n",
    "events = events.with_columns(\n",
    "    pl.from_epoch(pl.col(\"timestamp\") / 1000, time_unit=\"s\").alias(\"datetime\")\n",
    ")\n",
    "\n",
    "item_properties_raw = item_properties_raw.with_columns(\n",
    "    pl.from_epoch(pl.col(\"timestamp\") / 1000, time_unit=\"s\").alias(\"datetime\")\n",
    ")\n",
    "\n",
    "# --- Handle nulls ---\n",
    "events = events.fill_null(\"unknown\")  # Replace null transactionid with 'unknown'\n",
    "item_properties_raw = item_properties_raw.fill_null(\"unknown\")\n",
    "\n",
    "# --- Clean 'value' column ---\n",
    "# 1. Remove leading \"n\" from prices and convert to float where possible\n",
    "item_properties_raw = item_properties_raw.with_columns(\n",
    "    pl.col(\"value\").str.strip_chars().alias(\"value_clean\")\n",
    ")\n",
    "\n",
    "item_properties_raw = item_properties_raw.with_columns(\n",
    "    pl.when(pl.col(\"value_clean\").str.starts_with(\"n\"))\n",
    "    .then(pl.col(\"value_clean\").str.strip_chars(\"n\").cast(pl.Float64, strict=False))\n",
    "    .otherwise(pl.col(\"value_clean\"))\n",
    "    .alias(\"value_parsed\")\n",
    ")\n",
    "\n",
    "# --- Remove duplicates ---\n",
    "events = events.unique()\n",
    "item_properties_raw = item_properties_raw.unique()\n",
    "\n",
    "# --- Optional: Filter unrealistic timestamps (if needed) ---\n",
    "events = events.filter(pl.col(\"datetime\").dt.year().is_between(2014, 2020))\n",
    "item_properties_raw = item_properties_raw.filter(pl.col(\"datetime\").dt.year().is_between(2014, 2020))\n",
    "\n",
    "# --- Final clean datasets ---\n",
    "print(events.head())\n",
    "print(item_properties_raw.head())"
   ]
  },
  {
   "cell_type": "code",
   "execution_count": null,
   "id": "cd182de5",
   "metadata": {},
   "outputs": [],
   "source": [
    "# Make sure IDs are numeric\n",
    "cat_tree = category_tree(in).with_columns([\n",
    "    pl.col(\"categoryid\").cast(pl.Int64, strict=False),\n",
    "    pl.col(\"parentid\").cast(pl.Int64, strict=False)\n",
    "])\n",
    "\n",
    "# Drop duplicates (based on all columns)\n",
    "cat_tree = category_tree(in).unique()\n",
    "\n",
    "# Remove rows with nulls in critical columns\n",
    "cat_tree = category_tree(in).drop_nulls(subset=[\"categoryid\", \"parentid\"])\n",
    "\n",
    "# Preview\n",
    "print(cat_tree.head())\n",
    "print(f\"Rows after cleaning: {cat_tree.shape[0]}\")\n"
   ]
  }
 ],
 "metadata": {
  "kernelspec": {
   "display_name": "Python 3 (ipykernel)",
   "language": "python",
   "name": "python3"
  },
  "language_info": {
   "codemirror_mode": {
    "name": "ipython",
    "version": 3
   },
   "file_extension": ".py",
   "mimetype": "text/x-python",
   "name": "python",
   "nbconvert_exporter": "python",
   "pygments_lexer": "ipython3",
   "version": "3.13.5"
  }
 },
 "nbformat": 4,
 "nbformat_minor": 5
}
